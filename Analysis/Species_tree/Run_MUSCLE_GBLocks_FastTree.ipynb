{
 "cells": [
  {
   "cell_type": "markdown",
   "metadata": {},
   "source": [
    "# Create meta alignment"
   ]
  },
  {
   "cell_type": "code",
   "execution_count": 2,
   "metadata": {
    "scrolled": true
   },
   "outputs": [],
   "source": [
    "# Load libs\n",
    "import os, subprocess, sys,glob\n",
    "from Bio.Seq import Seq\n",
    "from Bio import SeqIO,AlignIO, Phylo\n",
    "from collections import defaultdict"
   ]
  },
  {
   "cell_type": "markdown",
   "metadata": {},
   "source": [
    "## Individual alignments + Gblocks\n",
    "\n",
    "The 1-to-1 orthologs will be aligned, and their alignments polished with GBlocks."
   ]
  },
  {
   "cell_type": "code",
   "execution_count": 3,
   "metadata": {
    "scrolled": true
   },
   "outputs": [],
   "source": [
    "maindir=os.path.join(os.getcwd(),\"21_hemimetabolan_orthofinder_blast_renamed\")\n",
    "inputdir=os.path.join(maindir,\"Single_Copy_Orthologue_Sequences\")\n",
    "output_align_dir=os.path.join(maindir,\"MUSCLE_out\")\n"
   ]
  },
  {
   "cell_type": "code",
   "execution_count": null,
   "metadata": {
    "scrolled": true
   },
   "outputs": [],
   "source": [
    "# for each file on the directory \n",
    "\n",
    "for file in os.listdir(inputdir):\n",
    "    print(os.path.join( inputdir,file))\n",
    "    inputfas=os.path.join(inputdir,file)\n",
    "\n",
    "    muscle_out=os.path.join(output_align_dir,os.path.splitext(file)[0])\n",
    "    \n",
    "\n",
    "    MUSCLEcommand=\"~/data_disk/Software/muscle3.8.31_i86linux64 -in %s -out %s\"\n",
    "\n",
    "    #run MUSCLE \n",
    "    #subprocess.run(MUSCLEcommand % (inputfas, muscle_out) , shell=True)\n",
    "\n",
    "    # run GBlocks\n",
    "    Gblockcommand=\"~/data_disk/Software/Gblocks_0.91b/Gblocks %s -t=p  -b4=5 -b5=a\"\n",
    "    #Gblockcommand=\"~/data_disk/Software/Gblocks_0.91b/Gblocks %s -t=p -b1=11 -b2=12 -b4=2 -b5=n\"\n",
    "    subprocess.run(Gblockcommand % muscle_out , shell=True)\n",
    "\n",
    "    "
   ]
  },
  {
   "cell_type": "markdown",
   "metadata": {},
   "source": [
    "## Join the alignments in a single file"
   ]
  },
  {
   "cell_type": "code",
   "execution_count": null,
   "metadata": {
    "scrolled": false
   },
   "outputs": [],
   "source": [
    "# Concatenate Alignments\n",
    "## https://yueyvettehao.github.io/2018/09/using-biopython-to-concatenate-aligned-sequences-with-the-same-name/\n",
    "\n",
    "#with open(\"example.fasta\", \"rU\") as handle:\n",
    "#    for record in SeqIO.parse(handle, \"fasta\"):\n",
    "#        print(record.id)      \n",
    "#output_align_dir=\"21_hemimetabolan_orthofinder_blast_renamed/MUSCLE_out/\"\n",
    "\n",
    "Alignemntfileslist=[]\n",
    "\n",
    "for file in os.listdir(output_align_dir):\n",
    "    if file.endswith('-gb'):\n",
    "        print(file)\n",
    "        Alignemntfileslist.append(os.path.join(output_align_dir,file))\n",
    "\n",
    "Alignemntfileslist\n",
    "        \n",
    "# Join all fasta alignments  in single file\n",
    "All_alignments=os.path.join(output_align_dir,\"All_alignments.fa\")\n",
    "\n",
    "catcommand=\"cat %s > %s\" % (' '.join(Alignemntfileslist),All_alignments )\n",
    "\n",
    "print(catcommand)\n",
    "\n",
    "subprocess.run(catcommand, shell=True)\n",
    "\n"
   ]
  },
  {
   "cell_type": "markdown",
   "metadata": {},
   "source": [
    "## Concatenate the alignments in a Metaalignment"
   ]
  },
  {
   "cell_type": "code",
   "execution_count": null,
   "metadata": {
    "scrolled": true
   },
   "outputs": [],
   "source": [
    "sequence_map = defaultdict(str)\n",
    "\n",
    "\n",
    "#All_alignments=\"/home/guillem/data_disk/Cricket_genome_annotation/Comparative_Genomics/Phylogenetic_trees/Proba.fa\"\n",
    "#output_handle = open(\"Example.fa\", \"w\")\n",
    "output_handle = open(os.path.join(output_align_dir,\"Meta_alignment.fa\"), \"w\")\n",
    "\n",
    "for sequence in SeqIO.parse(All_alignments, \"fasta\"):\n",
    "    sequence.name=sequence.name.split(\"_\")[0]  #  only retain spp name\n",
    "    sequence_map[sequence.name] += str(sequence.seq)\n",
    "\n",
    "    \n",
    "tmp= open(\"tmp\",\"w+\")\n",
    "\n",
    "for key, seq in sequence_map.items() :\n",
    "    #print (key)\n",
    "    tmp.write(\"\".join((\">\",key) ))\n",
    "    tmp.write(\"\\n\")\n",
    "    tmp.write(seq)\n",
    "    tmp.write(\"\\n\")\n",
    "    #print (\"\".join((\">\",key) ))\n",
    "    #print (seq)\n",
    "tmp.close() \n",
    "\n",
    "## Reformat to good fasta file    \n",
    "alignments = AlignIO.parse(\"tmp\", \"fasta\")\n",
    "#print(\"Alignment length %i\" % alignment.get_alignment_length())\n",
    "#for record in alignment :\n",
    "#    print(record.seq + \" \" + record.id)\n",
    "AlignIO.write(alignments, output_handle, \"fasta\")\n",
    "output_handle.close()\n",
    "os.remove(\"tmp\")"
   ]
  },
  {
   "cell_type": "markdown",
   "metadata": {},
   "source": [
    "## Run FastTree\n",
    "\n",
    "I used the FastTreMP whichuses multiple threads\n"
   ]
  },
  {
   "cell_type": "code",
   "execution_count": null,
   "metadata": {
    "scrolled": true
   },
   "outputs": [],
   "source": [
    "#metalignment_file=os.path.join(os.getcwd(), \"Example.fa\")\n",
    "#outtree=os.path.join(os.getcwd(), \"Example_Tree.tree\")\n",
    "\n",
    "metalignment_file= os.path.join(output_align_dir,\"Meta_alignment.fa\")\n",
    "outtree=os.path.join(maindir, \"Fasttree_out.tree\")\n",
    "\n",
    "Fasttree_Command=\"/home/guillem/data_disk/Software/FastTreeMP -gamma < %s > %s\" % (metalignment_file, outtree)\n",
    "\n",
    "print(Fasttree_Command)\n",
    "\n",
    "Fasttree_result =subprocess.run(Fasttree_Command , shell=True,  stdout=subprocess.PIPE, stderr=subprocess.PIPE)\n"
   ]
  },
  {
   "cell_type": "code",
   "execution_count": null,
   "metadata": {
    "scrolled": true
   },
   "outputs": [],
   "source": [
    "print(\"Stdout:\\n\",str(Fasttree_result))\n",
    "print(\"Stderr:\\n\",str(Fasttree_result))"
   ]
  },
  {
   "cell_type": "markdown",
   "metadata": {},
   "source": [
    "## Visualize FastTree Tree"
   ]
  },
  {
   "cell_type": "code",
   "execution_count": null,
   "metadata": {
    "scrolled": true
   },
   "outputs": [],
   "source": [
    "tree = Phylo.read(outtree, 'newick')\n",
    "#print(tree)\n",
    "\n",
    "import matplotlib.pyplot as plt\n",
    "\n",
    "plt.rcParams['figure.figsize'] = [10, 10]\n",
    "\n",
    "Phylo.draw(tree, branch_labels=lambda c: c.branch_length)\n",
    "\n",
    "Phylo.draw_ascii(tree)"
   ]
  },
  {
   "cell_type": "markdown",
   "metadata": {},
   "source": [
    "## Run RaxML\n"
   ]
  },
  {
   "cell_type": "code",
   "execution_count": 5,
   "metadata": {
    "scrolled": true
   },
   "outputs": [
    {
     "name": "stdout",
     "output_type": "stream",
     "text": [
      "/home/guillem/data_disk/Software/standard-RAxML/raxmlHPC-PTHREADS -T 16 -m PROTGAMMAAUTO -p 123 -# 2 -s /data/Cricket_genome_annotation/Comparative_Genomics/Phylogenetic_trees/21_hemimetabolan_orthofinder_blast_renamed/MUSCLE_out/Meta_alignment.fa -n RaxMLout \n"
     ]
    }
   ],
   "source": [
    "## Run rRaxML\n",
    "\n",
    "metalignment_file= os.path.join(output_align_dir,\"Meta_alignment.fa\")\n",
    "Raxmlouttree=\"21hemi\" # if whole path raxmlcrashes!\n",
    "\n",
    "#-# boostrtaps  -p  randomseet  -T numberOfThreads\n",
    "RaxML_Command=\"/home/guillem/data_disk/Software/standard-RAxML/raxmlHPC-PTHREADS -T 16 -m PROTGAMMAAUTO -p 123 -# 2 -s %s -n %s \" % (metalignment_file, Raxmlouttree)\n",
    "\n",
    "print(RaxML_Command)\n",
    "\n",
    "RaxML_result =subprocess.run(RaxML_Command , shell=True,  stdout=subprocess.PIPE, stderr=subprocess.PIPE)"
   ]
  },
  {
   "cell_type": "code",
   "execution_count": 6,
   "metadata": {
    "scrolled": true
   },
   "outputs": [
    {
     "name": "stdout",
     "output_type": "stream",
     "text": [
      "Stdout:\n",
      " CompletedProcess(args='/home/guillem/data_disk/Software/standard-RAxML/raxmlHPC-PTHREADS -T 16 -m PROTGAMMAAUTO -p 123 -# 2 -s /data/Cricket_genome_annotation/Comparative_Genomics/Phylogenetic_trees/21_hemimetabolan_orthofinder_blast_renamed/MUSCLE_out/Meta_alignment.fa -n RaxMLout ', returncode=255, stdout=b\"\\nRAxML can't, parse the alignment file as phylip file \\nit will now try to parse it as FASTA file\\n\\nRAxML output files with the run ID <RaxMLout> already exist \\nin directory /data/Cricket_genome_annotation/Comparative_Genomics/Phylogenetic_trees/ ...... exiting\\n\", stderr=b'')\n",
      "Stderr:\n",
      " CompletedProcess(args='/home/guillem/data_disk/Software/standard-RAxML/raxmlHPC-PTHREADS -T 16 -m PROTGAMMAAUTO -p 123 -# 2 -s /data/Cricket_genome_annotation/Comparative_Genomics/Phylogenetic_trees/21_hemimetabolan_orthofinder_blast_renamed/MUSCLE_out/Meta_alignment.fa -n RaxMLout ', returncode=255, stdout=b\"\\nRAxML can't, parse the alignment file as phylip file \\nit will now try to parse it as FASTA file\\n\\nRAxML output files with the run ID <RaxMLout> already exist \\nin directory /data/Cricket_genome_annotation/Comparative_Genomics/Phylogenetic_trees/ ...... exiting\\n\", stderr=b'')\n"
     ]
    }
   ],
   "source": [
    "print(\"Stdout:\\n\",str(RaxML_result))\n",
    "print(\"Stderr:\\n\",str(RaxML_result))"
   ]
  },
  {
   "cell_type": "markdown",
   "metadata": {},
   "source": [
    "## Visualize RaxML Tree"
   ]
  },
  {
   "cell_type": "code",
   "execution_count": null,
   "metadata": {
    "scrolled": true
   },
   "outputs": [],
   "source": [
    "RaxMLtree = Phylo.read(\"RaxMLout\", 'newick')\n",
    "#print(tree)\n",
    "\n",
    "import matplotlib.pyplot as plt\n",
    "\n",
    "plt.rcParams['figure.figsize'] = [10, 10]\n",
    "\n",
    "Phylo.draw(RaxMLtree, branch_labels=lambda c: c.branch_length)\n",
    "\n",
    "Phylo.draw_ascii(RaxMLtree)"
   ]
  },
  {
   "cell_type": "markdown",
   "metadata": {},
   "source": [
    "##Preparing CAFE\n",
    "\n",
    "RaxML/Fasttree r8s -> for cafe\n",
    "\n",
    "https://groups.google.com/forum/#!searchin/hahnlabcafe/raxml|sort:date/hahnlabcafe/kEfPXEx1CN8/MmtW8ihBCQAJ\n",
    "\n"
   ]
  }
 ],
 "metadata": {
  "kernelspec": {
   "display_name": "Python 3",
   "language": "python",
   "name": "python3"
  },
  "language_info": {
   "codemirror_mode": {
    "name": "ipython",
    "version": 3
   },
   "file_extension": ".py",
   "mimetype": "text/x-python",
   "name": "python",
   "nbconvert_exporter": "python",
   "pygments_lexer": "ipython3",
   "version": "3.8.2"
  }
 },
 "nbformat": 4,
 "nbformat_minor": 2
}
