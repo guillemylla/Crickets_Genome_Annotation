{
  "nbformat": 4,
  "nbformat_minor": 0,
  "metadata": {
    "kernelspec": {
      "display_name": "Python 3",
      "language": "python",
      "name": "python3"
    },
    "language_info": {
      "codemirror_mode": {
        "name": "ipython",
        "version": 3
      },
      "file_extension": ".py",
      "mimetype": "text/x-python",
      "name": "python",
      "nbconvert_exporter": "python",
      "pygments_lexer": "ipython3",
      "version": "3.7.3"
    },
    "colab": {
      "name": "1-Count_CpGoe.ipynb",
      "provenance": []
    }
  },
  "cells": [
    {
      "cell_type": "markdown",
      "metadata": {
        "id": "lv18rY0LxsS-",
        "colab_type": "text"
      },
      "source": [
        "# Get CDS seqs and prepare for CpG analysis\n",
        "\n",
        "\n",
        "\n",
        "It uses the longest mRNA per gene. Different ways to obtain it. Given I had the seqeuences in a SQL databse I did it using SQL query shown in this script: https://github.com/guillemylla/Gryllus_genome_annotation/blob/master/GBI_Genome_v3/Protein_coding_genes/2-GbiV3_Functional_Annotation.md:\n",
        "\n",
        "\n",
        "\n",
        "\n",
        "## Copy longest isoform"
      ]
    },
    {
      "cell_type": "code",
      "metadata": {
        "id": "RZpEn0VAxsTB",
        "colab_type": "code",
        "colab": {}
      },
      "source": [
        "# !mkdir mRNA_Seqs\n",
        "# !find /NCBI_Genomes -type f -name \"*longest_isoform_mrna.fa\"  -exec cp '{}' mRNA\\_Seqs  \\;\n",
        "# !cp Cricket_genome_annotation/GBI_Genome_v3/Protein_coding_genes/Annotation_Files/Longest_Prot_per_gene_mrna_V2.fa  mRNA_Seqs/Gryllus_bimaculatus_longest_isoform_mrna.fa\n",
        "# !cp ~/Cricket_genome_annotation/Laupala_kohalensis_annotation/Protein_coding_genes/Annotation_Files/Lko_Longest_CDS_per_gene.fa  mRNA_Seqs/Laupala_kohalensis_longest_isoform_mrna.fa\n",
        "# !cp ~/Genomes/Locusta_genome_V2.4.1/Lmi_mRNA.fa  mRNA_Seqs/Locusta_migratoria_longest_isoform_mrna.fa\n",
        "# !cp ~/Genomes/Bger/i5k_ogs_v1.2.1/Bger_longest_isoform_mRNA.fa  mRNA_Seqs/Blattella_germanica_longest_isoform_mrna.fa\n",
        "\n"
      ],
      "execution_count": null,
      "outputs": []
    },
    {
      "cell_type": "code",
      "metadata": {
        "id": "Xa5q_VWvxsTM",
        "colab_type": "code",
        "colab": {}
      },
      "source": [
        "#!cp ~/Genomes/Dmel_ncbi/Drosophila_melanogaster_longest_CDS.fa  mRNA_Seqs/\n",
        "\n",
        "#!cp ~/Genomes/Apis_mellifera/Apis_mellifera_longest_CDS.fa  mRNA_Seqs/\n",
        "\n",
        "#!cp ~/Genomes/Tribolium_castaneum_ncbi/Tribolium_castaneum_longest_CDS.fa mRNA_Seqs/\n",
        "\n",
        "#!cp ~/Genomes/Bombyx_mori/Bombyx_mori_longest_CDS.fa  mRNA_Seqs/\n",
        "\n"
      ],
      "execution_count": null,
      "outputs": []
    },
    {
      "cell_type": "markdown",
      "metadata": {
        "id": "0OjQhzCXxsTZ",
        "colab_type": "text"
      },
      "source": [
        "# Count CpGoe\n",
        "\n",
        "First count freq of C, G and CpG for each gene.\n",
        "\n",
        "For each Species, will create 1 specific file, plus will join it to a big files woth all species.\n"
      ]
    },
    {
      "cell_type": "code",
      "metadata": {
        "id": "wmYp7Hf1xsTa",
        "colab_type": "code",
        "colab": {},
        "outputId": "496c2dd0-0526-4b3c-fd16-853380729161"
      },
      "source": [
        "#16 insects in paper\n",
        "dictionary_spp= {\n",
        "         \"Drosophila_melanogaster\" : \"Dme\" ,\n",
        "         \"Bombyx_mori\" : \"Bmo\" ,\n",
        "         \"Tribolium_castaneum\" :\"Tca\" ,\n",
        "         \"Apis_mellifera\" : \"Ame\" ,\n",
        "         \"Pediculus_humanus_corporis\" : \"Phu\" ,\n",
        "         \"Frankliniella_occidentalis\" : \"Foc\",\n",
        "         \"Laodelphax_striatella\" : \"Lst\",\n",
        "         \"Nilaparvata_lugens\" : \"Nlu\",\n",
        "         \"Acyrthosiphon_pisum\" : \"Api\",\n",
        "         \"Sipha_flava\": \"Sfl\",\n",
        "         \"Blattella_germanica\" : \"Bge\",\n",
        "         \"Cryptotermes_secundus\" : \"Cse\",\n",
        "         \"Zootermopsis_nevadensis\" : \"Zna\",\n",
        "         \"Gryllus_bimaculatus\" : \"Gbi\",\n",
        "         \"Laupala_kohalensis\" : \"Lko\",\n",
        "         \"Locusta_migratoria\" : \"Lmi\" \n",
        "}\n",
        "\n",
        "len(dictionary_spp)"
      ],
      "execution_count": null,
      "outputs": [
        {
          "output_type": "execute_result",
          "data": {
            "text/plain": [
              "16"
            ]
          },
          "metadata": {
            "tags": []
          },
          "execution_count": 1
        }
      ]
    },
    {
      "cell_type": "markdown",
      "metadata": {
        "id": "mHRlc5hxxsTl",
        "colab_type": "text"
      },
      "source": [
        "Function that counts CpG of all seqs form fasta file"
      ]
    },
    {
      "cell_type": "code",
      "metadata": {
        "id": "iqhMURCXxsTm",
        "colab_type": "code",
        "colab": {}
      },
      "source": [
        "def getCpGoe(seqsfile, spp, sppAbreb, outfile1, outfile2):\n",
        "    print(seqsfile)\n",
        "    for record in SeqIO.parse(seqsfile, \"fasta\"):\n",
        "        Len=len(record.seq)\n",
        "        Ccount=record.seq.upper().count(\"C\")\n",
        "        Gcount=record.seq.upper().count(\"G\")\n",
        "        CGcount=record.seq.upper().count(\"CG\")\n",
        "\n",
        "        Cfreq=Ccount/Len\n",
        "        Gfreq=Gcount/Len\n",
        "        CGfreq=CGcount/(Len-1) #-1  becuase number of pairs=len-1\n",
        "\n",
        "        if ((Cfreq*Gfreq) == 0):\n",
        "            print(record.id, CGcount, record.seq, \"ZEROOO\")# can't devide by zero\n",
        "            CGoe=\"NA\"\n",
        "        else:\n",
        "            CGoe=round(CGfreq/(Cfreq*Gfreq),  7)\n",
        "\n",
        "        print(sppAbreb, record.id,Len,round(Gfreq, 7),round(Cfreq, 7),round(CGfreq, 7), CGoe )\n",
        "        \n",
        "        outfile1.write(spp+\"\\t\"+sppAbreb+\"\\t\"+record.id+\"\\t\"+str(Len)+\"\\t\"+str(round(Gfreq, 7))+\"\\t\"+str(round(Cfreq, 7))+\"\\t\"+str(round(CGfreq, 7))+\"\\t\"+str(CGoe)+\"\\n\")\n",
        "        outfile2.write(spp+\"\\t\"+sppAbreb+\"\\t\"+record.id+\"\\t\"+str(Len)+\"\\t\"+str(round(Gfreq, 7))+\"\\t\"+str(round(Cfreq, 7))+\"\\t\"+str(round(CGfreq, 7))+\"\\t\"+str(CGoe)+\"\\n\")\n"
      ],
      "execution_count": null,
      "outputs": []
    },
    {
      "cell_type": "code",
      "metadata": {
        "id": "nDWtzO1IxsTt",
        "colab_type": "code",
        "colab": {}
      },
      "source": [
        "from Bio import SeqIO\n",
        "import os\n",
        "\n",
        "seqs_dir=os.path.join(os.getcwd(),\"mRNA_Seqs\")\n",
        "\n",
        "\n",
        "acomulative_outfile= open(\"CpGoe_outputs/All_insects_CpGpe\", \"w+\")\n",
        "acomulative_outfile.write(\"Spp\"+\"\\t\"+\"Abb\"+\"\\t\"+\"ID\"+\"\\t\"+\"Len\"+\"\\t\"+\"Gfreq\"+\"\\t\"+\"Cfreq\"+\"\\t\"+\"CGfreq\"+\"\\t\"+\"CpGoe\"+\"\\n\")\n",
        "\n",
        "for file in os.listdir(seqs_dir):\n",
        "    spp=file.split(\"_longest\")[0]\n",
        "    \n",
        "    ## I only want to ru CpG for species that are in dic. Not all...\n",
        "    if spp in dictionary_spp: \n",
        "        sppAbreb=dictionary_spp[spp]  \n",
        "        spp_outfile= open(\"CpGoe_outputs/\"+spp+\"_longest_CDS_CpGoe.csv\", \"w+\")\n",
        "        spp_outfile.write(\"Spp\"+\"\\t\"+\"Abb\"+\"\\t\"+\"ID\"+\"\\t\"+\"Len\"+\"\\t\"+\"Gfreq\"+\"\\t\"+\"Cfreq\"+\"\\t\"+\"CGfreq\"+\"\\t\"+\"CpGoe\"+\"\\n\")\n",
        "        # call fucntion to count CpGoe\n",
        "        print(file)\n",
        "        getCpGoe(os.path.join(seqs_dir, file), spp, sppAbreb, spp_outfile, acomulative_outfile)\n",
        "\n",
        "        spp_outfile.close()\n",
        "        \n",
        "acomulative_outfile.close()"
      ],
      "execution_count": null,
      "outputs": []
    }
  ]
}
