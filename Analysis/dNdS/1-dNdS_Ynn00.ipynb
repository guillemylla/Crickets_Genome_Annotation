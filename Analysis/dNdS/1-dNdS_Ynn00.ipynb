{
 "cells": [
  {
   "cell_type": "markdown",
   "metadata": {
    "colab_type": "text",
    "id": "qqpIXShK1Coc"
   },
   "source": [
    "# dN/dS \n",
    "\n",
    "- Calculate dN/dS ratio between sequence pairs\n",
    "\n"
   ]
  },
  {
   "cell_type": "code",
   "execution_count": null,
   "metadata": {
    "colab": {},
    "colab_type": "code",
    "id": "TBKUoHHa1Cof"
   },
   "outputs": [],
   "source": [
    "import os, subprocess, sys,glob\n",
    "from Bio import SeqIO,AlignIO, Phylo\n",
    "from Bio.Phylo.PAML import codeml, yn00\n",
    "import pandas as pd\n",
    "from Bio.Align.Applications import MuscleCommandline"
   ]
  },
  {
   "cell_type": "markdown",
   "metadata": {
    "colab_type": "text",
    "id": "nA7zp_hk1Co0"
   },
   "source": [
    "## Get Single Copy Orthologs\n",
    "\n",
    "- From Orthofinder defined OGs between pairs of species"
   ]
  },
  {
   "cell_type": "code",
   "execution_count": null,
   "metadata": {
    "colab": {},
    "colab_type": "code",
    "id": "dvLzpWXq1Co1"
   },
   "outputs": [],
   "source": [
    "Orthologs_table=pd.read_csv(\"Orthogroups/Orthogroups.GeneCount.tsv\",sep=\"\\t\" )"
   ]
  },
  {
   "cell_type": "code",
   "execution_count": null,
   "metadata": {
    "colab": {},
    "colab_type": "code",
    "id": "-U6jNn4a1Co9"
   },
   "outputs": [],
   "source": [
    "Gbi_Lko_1to1=Orthologs_table[(Orthologs_table['Gryllus_bimaculatus']==1) & (Orthologs_table['Laupala_kohalensis']==1) ][['Orthogroup','Gryllus_bimaculatus','Laupala_kohalensis' ]]\n",
    "Gbi_Ame_1to1=Orthologs_table[(Orthologs_table['Gryllus_bimaculatus']==1) & (Orthologs_table['Apis_mellifera']==1) ][['Orthogroup','Gryllus_bimaculatus','Apis_mellifera' ]]\n",
    "Lko_Ame_1to1=Orthologs_table[(Orthologs_table['Laupala_kohalensis']==1) & (Orthologs_table['Apis_mellifera']==1) ][['Orthogroup','Laupala_kohalensis','Apis_mellifera' ]]\n"
   ]
  },
  {
   "cell_type": "code",
   "execution_count": null,
   "metadata": {
    "colab": {},
    "colab_type": "code",
    "id": "echWhS_L1CpD",
    "outputId": "82bc5287-3587-4d38-9739-899dd7a9324b"
   },
   "outputs": [
    {
     "name": "stdout",
     "output_type": "stream",
     "text": [
      "Gbi_Lko_1to1= (5728, 3) ; Gbi_Ame_1to1= (5298, 3) ; Lko_Ame_1to1= (5009, 3)\n"
     ]
    }
   ],
   "source": [
    "#Numbers of singel copy Orthologs\n",
    "print(  \"Gbi_Lko_1to1=\",Gbi_Lko_1to1.shape, \";\",\n",
    "        \"Gbi_Ame_1to1=\",Gbi_Ame_1to1.shape,\";\",\n",
    "        \"Lko_Ame_1to1=\",Lko_Ame_1to1.shape)\n"
   ]
  },
  {
   "cell_type": "markdown",
   "metadata": {
    "colab_type": "text",
    "id": "YP5uFkLt1CpL"
   },
   "source": [
    "## MUSCLE alignments\n",
    "\n",
    "- For each OGs get the 2 Orthologous sequences and align them with MUSCLE"
   ]
  },
  {
   "cell_type": "code",
   "execution_count": null,
   "metadata": {
    "colab": {},
    "colab_type": "code",
    "id": "xa_YddOA1CpM"
   },
   "outputs": [],
   "source": [
    "OGspath=\"Orthogroup_Sequences/\"\n",
    "\n",
    "def run_MUSCLE_pariwise_batch(OGlist, sp1, sp2):\n",
    "\n",
    "    sp1=sp1\n",
    "    sp2=sp2\n",
    "\n",
    "    #for each OG get 2 seqs of interest and write in tempfile\n",
    "    for OGs in OGlist:\n",
    "        print(OGs)\n",
    "        fasta_sequences = SeqIO.parse(open(os.path.join(OGspath, OGs+\".fa\")),'fasta')\n",
    "\n",
    "        with open(\".cacheseqstoalign\", \"w+\") as out_file:\n",
    "            for fasta in fasta_sequences:\n",
    "                name, sequence = fasta.id, str(fasta.seq)\n",
    "                if(name.startswith(sp1) or name.startswith(sp2)):\n",
    "                    print(name)\n",
    "                    SeqIO.write(fasta, out_file, \"fasta\")\n",
    "        out_file.close()\n",
    "        # the 2 seqs are in a temp file. \n",
    "        #prepare Muscle command\n",
    "        muscle_cline = MuscleCommandline(\"~/data_disk/Software/muscle3.8.31_i86linux64\",input=\".cacheseqstoalign\", out=\"Muscle_out/OGs_%s_%s_%s.aln\"%(OGs, sp1, sp2))\n",
    "        print(muscle_cline)\n",
    "        ## RUN MUSCLE\n",
    "        subprocess.run(str(muscle_cline), shell=True)      \n",
    "\n",
    "#os.remove(\".cacheseqstoalign\")    "
   ]
  },
  {
   "cell_type": "code",
   "execution_count": null,
   "metadata": {
    "colab": {},
    "colab_type": "code",
    "id": "7j4NFjLN1CpS"
   },
   "outputs": [],
   "source": [
    "# Run MUSCLE on 1 to 1 Orthologs between Gbi and Lko\n",
    "run_MUSCLE_pariwise_batch(Gbi_Lko_1to1['Orthogroup'], \"Gbi\", \"Lko\")\n",
    "# Run MUSCLE on 1 to 1 Orthologs between Gbi and Ame\n",
    "run_MUSCLE_pariwise_batch(Gbi_Ame_1to1['Orthogroup'], \"Gbi\", \"Ame\")\n",
    "# Run MUSCLE on 1 to 1 Orthologs between Lko and Ame\n",
    "run_MUSCLE_pariwise_batch(Lko_Ame_1to1['Orthogroup'], \"Lko\", \"Ame\")"
   ]
  },
  {
   "cell_type": "markdown",
   "metadata": {
    "colab_type": "text",
    "id": "SkjXYPP-1Cpb"
   },
   "source": [
    "## Pal2Nal and dN/dS with Yn00\n",
    "\n",
    "- Transform protein alignments to codon alignements\n",
    "- Calculate dN/dS with Yn00"
   ]
  },
  {
   "cell_type": "code",
   "execution_count": null,
   "metadata": {
    "colab": {},
    "colab_type": "code",
    "id": "IBKpqxMm1Cpd"
   },
   "outputs": [],
   "source": [
    "def Pal2Nal_dNdS_Ynn00_batch(sp1,sp2):\n",
    "\n",
    "\n",
    "    sp1=sp1\n",
    "    sp2=sp2\n",
    "\n",
    "    alignments_dir=\"Muscle_out\"\n",
    "    nts_fastas_directory=os.path.join(os.getcwd(),\"mRNA_Seqs\")\n",
    "    seqsdone=0\n",
    "    Omega=dict()\n",
    "\n",
    "\n",
    "    dictionary_spp_file= {  \"Ame\" : \"Apis_mellifera_longest_CDS.fa\",\n",
    "                            \"Gbi\" : \"Longest_Prot_per_gene_mrna_V2.fa\",\n",
    "                            \"Lko\" : \"Lko_Longest_CDS_per_gene.fa\"}\n",
    "\n",
    "    for alignment_file in os.listdir(alignments_dir):\n",
    "        ## select alignments containg 2 selected species\n",
    "        if \".aln\" in alignment_file and sp1 in alignment_file and sp2 in alignment_file: \n",
    "            print(\"Current alignment: \",alignment_file)\n",
    "            OG_Name=os.path.basename(alignment_file)\n",
    "            seqsdone+=1\n",
    "            #tempfile for mRNA seqs\n",
    "            nts_File= open(\".ntsfile\", \"w+\")\n",
    "            tempalign_File= open(\".tempalign_File\", \"w+\") # I copy here the alignment but with seq names changed(speciesnames)\n",
    "\n",
    "            for alnrecord in AlignIO.read(os.path.join(alignments_dir,alignment_file), \"fasta\"):\n",
    "                \n",
    "                spp=alnrecord.id.split(\"_\",1)[0]\n",
    "                geneid=alnrecord.id.split(\"_\",1)[1]\n",
    "                \n",
    "                tempalign_File.write(\">\"+str(spp)+\"\\n\"+str(alnrecord.seq)+\"\\n\") #write align in temp file with sppa s name\n",
    "                \n",
    "                # fasta files with mRNAs from dictionary\n",
    "                spp_fa_filname=dictionary_spp_file[spp]\n",
    "\n",
    "                ntsseqfound=False\n",
    "\n",
    "                for fastaseq in SeqIO.parse(os.path.join(nts_fastas_directory,spp_fa_filname), \"fasta\"):\n",
    "                    if geneid in fastaseq.id and ntsseqfound == False: ## onces its found stp searching (avoid ame to add 2 seqs..)\n",
    "                        SeqIO.write(fastaseq, nts_File, \"fasta\")\n",
    "                        ntsseqfound=True\n",
    "                    elif geneid in fastaseq.description and ntsseqfound == False:  # For AME, LOC is in descriptor \n",
    "                        fastaseq.id=geneid\n",
    "                        SeqIO.write(fastaseq, nts_File, \"fasta\")\n",
    "                        ntsseqfound=True\n",
    "                if ntsseqfound == False: ## make sure that I found the mRNA for each protein of the alignment\n",
    "                    print(\"Error: Nucelotide sequence %s NOT found for %s\" %(geneid, spp))\n",
    "                    #sys.exit(\"Error: Nucelotide sequence %s NOT found for %s\" %(geneid, spp))\n",
    "            tempalign_File.close()\n",
    "            nts_File.close()\n",
    "\n",
    "\n",
    "             \n",
    "            # tmp contain all the mRNAs of the proteins form alignemnt    \n",
    "            ## Now run Pal2Nal\n",
    "            Pal2nal_oupput_file=OG_Name+\"pal2nal\"\n",
    "            paltonal_command=\"Software/pal2nal.v14/pal2nal.pl -nogap  -output paml %s %s > %s\" \\\n",
    "                    % (\".tempalign_File\", \".ntsfile\", \"pal2nal_outputs/\"+Pal2nal_oupput_file)  \n",
    "            #print(paltonal_command)    \n",
    "            subprocess.run(paltonal_command,shell=True)\n",
    "\n",
    "\n",
    "            #check if Pal2Nal worked (file exisst and not empty)\n",
    "            if (os.path.exists(\"pal2nal_outputs/\"+Pal2nal_oupput_file) and os.path.getsize(\"pal2nal_outputs/\"+Pal2nal_oupput_file) > 0):\n",
    "                #if Pal2Nal worked, RUN YNN00\n",
    "                yn = yn00.Yn00(alignment = \"pal2nal_outputs/\"+Pal2nal_oupput_file,\n",
    "                               out_file = \"ynn00_output/\"+OG_Name+\"_Ynn00Result.txt\",\n",
    "                               working_dir = os.getcwd())\n",
    "                yn.set_options(verbose=True)\n",
    "                try:\n",
    "                    Yn00_results = yn.run()\n",
    "                    Omega[OG_Name]=Yn00_results[sp1][sp2][\"YN00\"][\"omega\"],Yn00_results[sp1][sp2][\"YN00\"][\"dN\"],Yn00_results[sp1][sp2][\"YN00\"][\"dS\"]\n",
    "                except:\n",
    "                    print(\"\\n Ynn failed, skipping OG: \\n\",OG_Name)\n",
    "                    Omega[OG_Name]=None,None,None\n",
    "                    Omega[OG_Name]=None,None,None\n",
    "                    Omega[OG_Name]=None,None,None\n",
    "            else:   \n",
    "                print(\"\\n Pal2Nal failed, skipping OG: \\n\",OG_Name)\n",
    "                Omega[OG_Name]=None,None,None\n",
    "                Omega[OG_Name]=None,None,None\n",
    "                Omega[OG_Name]=None,None,None\n",
    "\n",
    "\n",
    "\n",
    "\n",
    "#         if seqsdone >50:        \n",
    "#               break\n",
    "\n",
    "    return(Omega)\n",
    "\n",
    "    os.remove(\".ntsfile\")\n",
    "    os.remove(\".tempalign_File\")"
   ]
  },
  {
   "cell_type": "code",
   "execution_count": null,
   "metadata": {
    "colab": {},
    "colab_type": "code",
    "id": "HV2xSQkK1Cph"
   },
   "outputs": [],
   "source": [
    "Omega_Gbi_Ame= Pal2Nal_dNdS_Ynn00_batch(\"Gbi\", \"Ame\")\n",
    "Omega_Lko_Ame= Pal2Nal_dNdS_Ynn00_batch(\"Lko\", \"Ame\")\n",
    "Omega_Gbi_Lko= Pal2Nal_dNdS_Ynn00_batch(\"Gbi\", \"Lko\")"
   ]
  },
  {
   "cell_type": "markdown",
   "metadata": {
    "colab_type": "text",
    "id": "UyGy3peM1Cpn"
   },
   "source": [
    "Save Omega values in csv files"
   ]
  },
  {
   "cell_type": "code",
   "execution_count": null,
   "metadata": {
    "colab": {},
    "colab_type": "code",
    "id": "xNM-_JGY1Cpo"
   },
   "outputs": [],
   "source": [
    "import csv\n",
    "\n",
    "\n",
    "with open('Omega_Gbi_Lko_v2.csv','w+') as f:\n",
    "    f.write(\"key \\t Omega \\t dN \\t dS \\n\")\n",
    "    for key in Omega_Gbi_Lko:\n",
    "        f.write(key+\"\\t\"+'\\t'.join([str(x) for x in Omega_Gbi_Lko[key]])+\"\\n\")\n",
    "    \n",
    "\n",
    "\n",
    "with open('Omega_Gbi_Ame_v2.csv','w+') as f:\n",
    "    f.write(\"key \\t Omega \\t dN \\t dS \\n\")\n",
    "    for key in Omega_Gbi_Ame:\n",
    "        f.write(key+\"\\t\"+'\\t'.join([str(x) for x in Omega_Gbi_Ame[key]])+\"\\n\")\n",
    "\n",
    "\n",
    "with open('Omega_Lko_Ame_v2.csv','w+') as f:\n",
    "    f.write(\"key \\t Omega \\t dN \\t dS \\n\")\n",
    "    for key in Omega_Lko_Ame:\n",
    "        f.write(key+\"\\t\"+'\\t'.join([str(x) for x in Omega_Lko_Ame[key]])+\"\\n\")\n"
   ]
  },
  {
   "cell_type": "markdown",
   "metadata": {},
   "source": [
    "\n",
    "References:\n",
    "\n",
    "* yn00 alg: https://academic.oup.com/mbe/article/17/1/32/975527\n",
    "* yn00 within PAML suit. https://academic.oup.com/mbe/article/24/8/1586/1103731\n",
    "* example in mouse vs human genomes https://www.nature.com/articles/nature01262\n",
    "* ynn google forum https://groups.google.com/forum/#!searchin/pamlsoftware/omega/pamlsoftware/RQhzqhhZEMM/eWQC3j-4o8kJ\n"
   ]
  }
 ],
 "metadata": {
  "colab": {
   "collapsed_sections": [],
   "name": "Ynn00.ipynb",
   "provenance": []
  },
  "kernelspec": {
   "display_name": "Python 3",
   "language": "python",
   "name": "python3"
  },
  "language_info": {
   "codemirror_mode": {
    "name": "ipython",
    "version": 3
   },
   "file_extension": ".py",
   "mimetype": "text/x-python",
   "name": "python",
   "nbconvert_exporter": "python",
   "pygments_lexer": "ipython3",
   "version": "3.8.2"
  }
 },
 "nbformat": 4,
 "nbformat_minor": 1
}
